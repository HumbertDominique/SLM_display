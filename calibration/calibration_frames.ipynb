{
 "cells": [
  {
   "cell_type": "markdown",
   "id": "d667c5d4",
   "metadata": {},
   "source": [
    "# This file is used to generate grayscale .bpm for calibrating the phase shift of a phase SLM.\n",
    "\n",
    "The has a resolution of 800x600 px, each 32x32um^2 with a fill factor of 85%"
   ]
  },
  {
   "cell_type": "code",
   "execution_count": 2,
   "id": "9d0bf010",
   "metadata": {},
   "outputs": [],
   "source": [
    "import numpy as np\n",
    "import matplotlib.pyplot as plt\n",
    "from PIL import Image\n",
    "\n",
    "# Define the parameters for the calibration frames\n",
    "\n",
    "N = 256 # Number of calibration frames to generate\n",
    "filepath = \"data/\"\n",
    "\n",
    "\n",
    "def generate_frames(N, filepath, resolution = (800, 600), value_type = np.uint8):\n",
    "    \"\"\"Generate N grayscale .bpm files\n",
    "    Inputs:\n",
    "       N (int): number of calibration frames to generate\n",
    "       filepath: str, the filepath where the .bpm files will be saved. Default is 'calibration\n",
    "       resolution: tuple, the resolution of the calibration frames (width, height). Default is (800, 600)\n",
    "       value_type: numpy type for the bit depth of the calibration frames. Default is 8 bits.\n",
    "    Returns:\n",
    "        frames: ndarray, N x width x height array containing the grayscale values for each frame.\n",
    "    \"\"\"\n",
    "    \n",
    "    frames = np.ones((N, resolution[0], resolution[1]), dtype=value_type)\n",
    "    greys = np.linspace(0, np.iinfo(value_type).max, N)\n",
    "\n",
    "    frames = frames*greys[:, None, None]\n",
    "\n",
    "    i = 0\n",
    "    for i in range(N):\n",
    "        img = Image.fromarray(frames[i,:,:].astype(value_type))\n",
    "        img.save(filepath+\"calibration\"+str(i)+\".bmp\")\n",
    "\n",
    "\n",
    "\n",
    "\n",
    "generate_frames(N, filepath)\n",
    "\n"
   ]
  }
 ],
 "metadata": {
  "kernelspec": {
   "display_name": ".venv",
   "language": "python",
   "name": "python3"
  },
  "language_info": {
   "codemirror_mode": {
    "name": "ipython",
    "version": 3
   },
   "file_extension": ".py",
   "mimetype": "text/x-python",
   "name": "python",
   "nbconvert_exporter": "python",
   "pygments_lexer": "ipython3",
   "version": "3.12.9"
  }
 },
 "nbformat": 4,
 "nbformat_minor": 5
}
