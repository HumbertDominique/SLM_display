{
 "cells": [
  {
   "cell_type": "markdown",
   "id": "5efe9788",
   "metadata": {},
   "source": [
    "# This file is used to generate grayscale .bpm for calibrating the phase shift of a phase SLM.\n",
    "\n",
    "The has a resolution of 800x600 px, each 32x32um^2 with a fill factor of 85%"
   ]
  },
  {
   "cell_type": "code",
   "execution_count": null,
   "id": "9e14e40d",
   "metadata": {
    "vscode": {
     "languageId": "plaintext"
    }
   },
   "outputs": [],
   "source": []
  }
 ],
 "metadata": {
  "language_info": {
   "name": "python"
  }
 },
 "nbformat": 4,
 "nbformat_minor": 5
}
