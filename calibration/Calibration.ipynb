{
 "cells": [
  {
   "cell_type": "markdown",
   "id": "5efe9788",
   "metadata": {},
   "source": [
    "# SLM calibration\n",
    "\n",
    "This file is used to generate , display and measure grayscale images for calibrating the phase shift of a phase SLM.\n",
    "\n",
    "The SLM has a resolution of 800x600 px, each 32x32um^2 with a fill factor of 85%"
   ]
  },
  {
   "cell_type": "markdown",
   "id": "67a5c288",
   "metadata": {},
   "source": [
    "## Image acquisition example"
   ]
  },
  {
   "cell_type": "code",
   "execution_count": null,
   "id": "9e8738ab",
   "metadata": {},
   "outputs": [],
   "source": [
    "from ximea import xiapi\n",
    "import matplotlib.pyplot as plt\n",
    "import numpy as np\n",
    "\n",
    "\n",
    "#CIMAU2430046\n",
    "cam = xiapi.Camera(dev_id=0)\n",
    "print(\"Opening camera...\")\n",
    "cam.open_device_by_SN('CIMAU2430046')\n",
    "width = cam.get_width()\n",
    "height = cam.get_height()\n",
    "print(\"Camera open (if it worked)\")\n",
    "\n",
    "sensor_bit_depth = cam.set_sensor_bit_depth('XI_BPP_12')\n",
    "sensor_bit_depth = cam.get_sensor_bit_depth()\n",
    "print('Sensor bit depth: ', sensor_bit_depth)\n",
    "cam.set_gain(0) \n",
    "cam.set_exposure(20000)\n",
    "img = xiapi.Image()\n",
    "cam.set_trigger_source('XI_TRG_SOFTWARE') \n",
    "print('Starting data acquisition...')\n",
    "cam.start_acquisition()\n",
    "cam.set_trigger_software(1) \n",
    "cam.get_image(img)\n",
    "print('blah')\n",
    "\n",
    "data_raw = img.get_image_data_raw()\n",
    "data = list(data_raw)\n",
    "\n",
    "cam.stop_acquisition()\n",
    "cam.close_device()\n",
    "\n",
    "npdata = np.reshape(data,(height, width))\n",
    "\n",
    "plt.imshow(npdata,cmap ='grey')\n",
    "plt.show()"
   ]
  },
  {
   "cell_type": "markdown",
   "id": "8f101fce",
   "metadata": {},
   "source": [
    "## Display example in a thread with updates possible called by the \"main thread\""
   ]
  },
  {
   "cell_type": "code",
   "execution_count": null,
   "id": "3b41a236",
   "metadata": {},
   "outputs": [],
   "source": [
    "import cv2\n",
    "import threading\n",
    "from screeninfo import get_monitors\n",
    "import time\n",
    "\n",
    "from calibration import FullscreenDisplay\n",
    "\n",
    "display.show()\n",
    "RUNNING = True\n",
    "print(\"Program running... window stays open until we close it.\")\n",
    "while RUNNING == True:\n",
    "    user_input = input()\n",
    "    if user_input=='e':\n",
    "        display.update_image(\"temp2.jpg\")\n",
    "        time.sleep(2)\n",
    "        print(\"Closing display\")\n",
    "        display.close()\n",
    "        RUNNING = False\n",
    "# Now we send a command to close the window\n",
    "# print(\"Closing display now...\")\n",
    "# display.close()\n",
    "print(\"Program finished.\")\n"
   ]
  },
  {
   "cell_type": "markdown",
   "id": "79e59742",
   "metadata": {},
   "source": [
    "## Combining the two of them"
   ]
  },
  {
   "cell_type": "code",
   "execution_count": null,
   "id": "3cc721b7",
   "metadata": {},
   "outputs": [],
   "source": [
    "from calibration import generate_frames, FullscreenDisplay, Acquisition\n",
    "import time\n",
    "import keyboard\n",
    "\n",
    "path1 = \"data/calibration_\"\n",
    "path2 = \"data/measurements/mes\"\n",
    "ext = \".bmp\"\n",
    "exposure = 20000\n",
    "exposure_s = exposure*1e-6\n",
    "Stabilisation_time = 5e-3\n",
    "N = 5\n",
    "index = 0\n",
    "\n",
    "\n",
    "# generate_frames(N, path1)\n",
    "\n",
    "RUNNING = True\n",
    "\n",
    "print(path1+str(index)+\".bmp\")\n",
    "display = FullscreenDisplay(path1+str(index)+\".bmp\", monitor_index=1)\n",
    "display.show()\n",
    "time.sleep(Stabilisation_time)\n",
    "print(\"Starting acquisition\")\n",
    "acquisition = Acquisition(exposure, path2)\n",
    "tic = time.time()\n",
    "tac = tic\n",
    "print(\"Press \\'e\\' for emergency exit\")\n",
    "while RUNNING:\n",
    "    if tac-tic >= exposure_s and tac-tic >= Stabilisation_time:\n",
    "        acquisition.acquire(index)\n",
    "        index += 1\n",
    "        display.update_image(path1+str(index)+ext)\n",
    "        tic = tac\n",
    "\n",
    "    if index == N:\n",
    "        RUNNING = False\n",
    "    \n",
    "    tac = time.time()\n",
    "    if keyboard.is_pressed('e'):\n",
    "        print('Process abrubptly terminated. Restart kernel.')\n",
    "        RUNNING = False\n",
    "    time.sleep(0.005)\n",
    "\n",
    "print(\"Terminating processes\")\n",
    "acquisition.terminate()\n",
    "display.close()"
   ]
  }
 ],
 "metadata": {
  "kernelspec": {
   "display_name": ".venv",
   "language": "python",
   "name": "python3"
  },
  "language_info": {
   "codemirror_mode": {
    "name": "ipython",
    "version": 3
   },
   "file_extension": ".py",
   "mimetype": "text/x-python",
   "name": "python",
   "nbconvert_exporter": "python",
   "pygments_lexer": "ipython3",
   "version": "3.12.9"
  }
 },
 "nbformat": 4,
 "nbformat_minor": 5
}
